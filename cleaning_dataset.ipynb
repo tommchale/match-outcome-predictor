{
 "cells": [
  {
   "cell_type": "code",
   "execution_count": 29,
   "metadata": {},
   "outputs": [],
   "source": [
    "import pandas as pd\n",
    "import numpy as np\n",
    "\n",
    "pd.set_option('display.max_columns', None)\n",
    "\n",
    "path = r'/Users/tom/Documents/Coding/AiCore/Projects/4. Football Match Outcome Predictor /Cleaned Datasets/premier_league_features_df.csv'\n",
    "path_2 = r'/Users/tom/Documents/Coding/AiCore/Projects/4. Football Match Outcome Predictor /Cleaned Datasets/combined_elo_with_features_df.csv'\n",
    "\n",
    "\n",
    "premier_league_features_df = pd.read_csv(path)\n",
    "combined_elo_with_features_df = pd.read_csv(path_2)\n",
    "\n",
    "missing_information_list= ['segunda_liga: 2020.0',\n",
    " 'segunda_liga: 2020.0',\n",
    " 'segunda_liga: 2020.0',\n",
    " 'segunda_liga: 2020.0',\n",
    " 'segunda_liga: 2020.0',\n",
    " 'segunda_liga: 2020.0',\n",
    " 'segunda_liga: 2020.0',\n",
    " 'segunda_liga: 2020.0',\n",
    " 'segunda_liga: 2020.0',\n",
    " 'segunda_liga: 2012.0',\n",
    " 'segunda_liga: 2012.0']"
   ]
  },
  {
   "cell_type": "markdown",
   "metadata": {},
   "source": [
    "Missing home ELO Values = ['championship', 'premier_league', 'eredivisie', 'primeira_liga',\n",
    "       'ligue_2', 'segunda_division', 'primera_division', 'serie_b',\n",
    "       'serie_a', '2_liga']"
   ]
  },
  {
   "cell_type": "code",
   "execution_count": 30,
   "metadata": {},
   "outputs": [],
   "source": [
    "# Function to remove partially completed seasons\n",
    "\n",
    "def _remove_incomplete_seasons(missing_information_list, combined_elo_with_features_df):\n",
    "\n",
    "    missing_info_set = set(missing_information_list)\n",
    "    missing_info_deduplicated_list = list(missing_info_set)\n",
    "    missing_info_deduplicated_list\n",
    "    for item in missing_info_deduplicated_list:\n",
    "        league = item.split(\": \")[0]\n",
    "        season = item.split(\": \")[1]\n",
    "        combined_elo_with_features_df.drop(combined_elo_with_features_df.index[(combined_elo_with_features_df.League == league)&(\n",
    "                        combined_elo_with_features_df.Season == season)], inplace=True)\n",
    "    \n",
    "    return combined_elo_with_features_df\n",
    "\n",
    "def _prepare_dataset_for_ML_models(df):\n",
    "\n",
    "\n",
    "    df.drop(axis=1, columns=['Result','Round', 'Link', 'Home_Win', 'Away_Win', 'Date_New', 'Home_Team', 'Away_Team', 'Season', 'League', 'Referee', 'City', 'Country', 'Stadium', 'Pitch','Home_Yellow', 'Home_Red', 'Away_Yellow', 'Away_Red'], inplace=True)\n",
    "    df[\"Goal_Difference\"] = df[\"Home_Goals\"] - df[\"Away_Goals\"]\n",
    "    df.drop(axis=1, columns=['Home_Goals', 'Away_Goals'], inplace=True)\n",
    "    df.dropna(subset=[\"ELO_home\"], inplace = True)\n",
    "    \n",
    "    return df\n",
    "\n"
   ]
  },
  {
   "cell_type": "code",
   "execution_count": 31,
   "metadata": {},
   "outputs": [
    {
     "data": {
      "text/html": [
       "<div>\n",
       "<style scoped>\n",
       "    .dataframe tbody tr th:only-of-type {\n",
       "        vertical-align: middle;\n",
       "    }\n",
       "\n",
       "    .dataframe tbody tr th {\n",
       "        vertical-align: top;\n",
       "    }\n",
       "\n",
       "    .dataframe thead th {\n",
       "        text-align: right;\n",
       "    }\n",
       "</style>\n",
       "<table border=\"1\" class=\"dataframe\">\n",
       "  <thead>\n",
       "    <tr style=\"text-align: right;\">\n",
       "      <th></th>\n",
       "      <th>Capacity</th>\n",
       "      <th>ELO_home</th>\n",
       "      <th>ELO_away</th>\n",
       "      <th>home_team_total_goals_scored_so_far</th>\n",
       "      <th>home_team_total_goals_conceeded_so_far</th>\n",
       "      <th>home_team_current_win_streak</th>\n",
       "      <th>home_team_current_loss_streak</th>\n",
       "      <th>home_team_total_points_so_far</th>\n",
       "      <th>home_team_current_goal_drought</th>\n",
       "      <th>home_team_total_wins_so_far</th>\n",
       "      <th>away_team_total_goals_scored_so_far</th>\n",
       "      <th>away_team_total_goals_conceeded_so_far</th>\n",
       "      <th>away_team_current_win_streak</th>\n",
       "      <th>away_team_current_loss_streak</th>\n",
       "      <th>away_team_total_points_so_far</th>\n",
       "      <th>away_team_current_goal_drought</th>\n",
       "      <th>away_team_total_wins_so_far</th>\n",
       "      <th>Goal_Difference</th>\n",
       "    </tr>\n",
       "  </thead>\n",
       "  <tbody>\n",
       "  </tbody>\n",
       "</table>\n",
       "</div>"
      ],
      "text/plain": [
       "Empty DataFrame\n",
       "Columns: [Capacity, ELO_home, ELO_away, home_team_total_goals_scored_so_far, home_team_total_goals_conceeded_so_far, home_team_current_win_streak, home_team_current_loss_streak, home_team_total_points_so_far, home_team_current_goal_drought, home_team_total_wins_so_far, away_team_total_goals_scored_so_far, away_team_total_goals_conceeded_so_far, away_team_current_win_streak, away_team_current_loss_streak, away_team_total_points_so_far, away_team_current_goal_drought, away_team_total_wins_so_far, Goal_Difference]\n",
       "Index: []"
      ]
     },
     "execution_count": 31,
     "metadata": {},
     "output_type": "execute_result"
    }
   ],
   "source": [
    "combined_elo_with_partial_seasons_removed_df = _remove_incomplete_seasons(missing_information_list, combined_elo_with_features_df)\n",
    "combined_elo_numerical_df = _prepare_dataset_for_ML_models(combined_elo_with_partial_seasons_removed_df)\n",
    "\n",
    "combined_elo_numerical_df[combined_elo_numerical_df[\"ELO_home\"].isnull()]"
   ]
  },
  {
   "cell_type": "code",
   "execution_count": 33,
   "metadata": {},
   "outputs": [],
   "source": [
    "from decouple import Config, RepositoryEnv\n",
    "from sqlalchemy import create_engine\n",
    "\n",
    "\n",
    "def _connect_to_RDS() -> create_engine:\n",
    "    '''_connect_to_RDS \n",
    "    Method to create connection to RDS database using sqlalchemy\n",
    "\n",
    "    Returns:\n",
    "        engine - connection\n",
    "\n",
    "    '''\n",
    "    DOTENV_FILE = '/Users/tom/Documents/Coding/AiCore/Projects/4. Football Match Outcome Predictor /match-outcome-predictor/.env'\n",
    "    env_config = Config(RepositoryEnv(DOTENV_FILE))\n",
    "\n",
    "    RDS_DATABASE_PASSWORD = env_config.get('RDS_DATABASE_PASSWORD')\n",
    "    RDS_DATABASE_TYPE = env_config.get('RDS_DATABASE_TYPE')\n",
    "    RDS_DBAPI = env_config.get('RDS_DBAPI')\n",
    "    RDS_ENDPOINT = env_config.get('RDS_ENDPOINT')\n",
    "    RDS_USER = env_config.get('RDS_USER')\n",
    "    RDS_DATABASE = env_config.get('RDS_DATABASE')\n",
    "    PORT = 5432\n",
    "\n",
    "\n",
    "    engine = create_engine(\n",
    "            f\"{RDS_DATABASE_TYPE}+{RDS_DBAPI}://{RDS_USER}:{RDS_DATABASE_PASSWORD}@{RDS_ENDPOINT}:{PORT}/{RDS_DATABASE}\")\n",
    "        \n",
    "    return engine\n",
    "\n",
    "def _upload_dataframes_to_rds(df):\n",
    "    '''_upload_dataframes_to_rds \n",
    "    If dataframe exists, append it to SQL database.\n",
    "    '''\n",
    "\n",
    "    engine = _connect_to_RDS()\n",
    "    df.to_sql('match_outcomes', engine, if_exists='append')\n",
    "\n",
    "   \n",
    "\n"
   ]
  },
  {
   "cell_type": "code",
   "execution_count": 35,
   "metadata": {},
   "outputs": [],
   "source": [
    "_upload_dataframes_to_rds(combined_elo_numerical_df)"
   ]
  },
  {
   "cell_type": "code",
   "execution_count": 36,
   "metadata": {},
   "outputs": [],
   "source": [
    "path = r'/Users/tom/Documents/Coding/AiCore/Projects/4. Football Match Outcome Predictor /Cleaned Datasets/cleaned_dataset.csv'\n",
    "combined_elo_numerical_df.to_csv(path, index=False)"
   ]
  }
 ],
 "metadata": {
  "kernelspec": {
   "display_name": "Python 3.9.7 ('base')",
   "language": "python",
   "name": "python3"
  },
  "language_info": {
   "codemirror_mode": {
    "name": "ipython",
    "version": 3
   },
   "file_extension": ".py",
   "mimetype": "text/x-python",
   "name": "python",
   "nbconvert_exporter": "python",
   "pygments_lexer": "ipython3",
   "version": "3.9.7"
  },
  "orig_nbformat": 4,
  "vscode": {
   "interpreter": {
    "hash": "3d597f4c481aa0f25dceb95d2a0067e73c0966dcbd003d741d821a7208527ecf"
   }
  }
 },
 "nbformat": 4,
 "nbformat_minor": 2
}
